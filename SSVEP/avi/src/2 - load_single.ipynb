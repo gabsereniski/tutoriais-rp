{
 "cells": [
  {
   "cell_type": "code",
   "execution_count": 1,
   "metadata": {},
   "outputs": [],
   "source": [
    "# imports\n",
    "\n",
    "from scipy.io import loadmat\n",
    "import numpy as np"
   ]
  },
  {
   "cell_type": "code",
   "execution_count": 2,
   "metadata": {},
   "outputs": [],
   "source": [
    "# pré-carregamento\n",
    "\n",
    "avi_data = list()\n",
    "for i in range(1,5):\n",
    "    avi_data.append(loadmat(f\"../dataset/single/Sub{i}_singletarget.mat\"))"
   ]
  },
  {
   "cell_type": "code",
   "execution_count": 3,
   "metadata": {},
   "outputs": [
    {
     "name": "stdout",
     "output_type": "stream",
     "text": [
      "Divisão dos dados:\n",
      "(15360, 27)\n",
      "(15360, 26)\n",
      "(15360, 21)\n",
      "(15360, 21)\n",
      "\n",
      "Divisão dos rótulos (sequências):\n",
      "[[10.  10.  10.  12.  12.  12.   6.5  6.5  6.5  6.   6.   6.   6.   6.\n",
      "   6.   7.5  7.5  7.5  7.   7.   7.   8.2  8.2  8.2  9.3  9.3  9.3]]\n",
      "[[10.  10.  10.   6.5  6.5  6.5  6.5  6.   6.   6.   7.5  7.5  7.5  7.\n",
      "   7.   7.   7.   7.   7.   8.2  8.2  8.2  8.2  9.3  9.3  9.3]]\n",
      "[[10.  10.  10.   6.5  6.5  6.5  6.   6.   6.   7.5  7.5  7.5  7.   7.\n",
      "   7.   8.2  8.2  8.2  9.3  9.3  9.3]]\n",
      "[[10.  10.  10.   6.5  6.5  6.5  6.   6.   6.   7.5  7.5  7.5  7.   7.\n",
      "   7.   8.2  8.2  8.2  9.3  9.3  9.3]]\n"
     ]
    }
   ],
   "source": [
    "# extração direta dos dados\n",
    "\n",
    "X = [d['Data'][0][0][0] for d in avi_data]\n",
    "y = [d['Data'][0][0][1] for d in avi_data]\n",
    "\n",
    "print(\"Divisão dos dados:\")\n",
    "for data in X:\n",
    "    print(data.shape)\n",
    "\n",
    "print(\"\\nDivisão dos rótulos (sequências):\")\n",
    "for data in y:\n",
    "    print(data)"
   ]
  },
  {
   "cell_type": "code",
   "execution_count": 6,
   "metadata": {},
   "outputs": [],
   "source": [
    "# padronizando 1º e 2º participante\n",
    "\n",
    "X1 = X[0][:, list(set(range(27)) - set([3, 4, 5, 12, 13, 14]))]\n",
    "y1 = y[0][:, list(set(range(27)) - set([3, 4, 5, 12, 13, 14]))]\n",
    "\n",
    "X2 = X[1][:, list(set(range(26)) - set([4, 16, 17, 18, 19]))]\n",
    "y2 = y[1][:, list(set(range(26)) - set([4, 16, 17, 18, 19]))]"
   ]
  },
  {
   "cell_type": "code",
   "execution_count": 12,
   "metadata": {},
   "outputs": [
    {
     "data": {
      "text/plain": [
       "((21, 15360), (21, 1), (21, 15360), (21, 1))"
      ]
     },
     "execution_count": 12,
     "metadata": {},
     "output_type": "execute_result"
    }
   ],
   "source": [
    "X[2].T.shape, y[2].T.shape, X[3].T.shape, y[3].T.shape"
   ]
  },
  {
   "cell_type": "code",
   "execution_count": 13,
   "metadata": {},
   "outputs": [],
   "source": [
    "# salva os dados numpy\n",
    "\n",
    "np.save(\"../dataset/single/data_sub1.npy\", X1.T)\n",
    "np.save(\"../dataset/single/labels_sub1.npy\", y1)\n",
    "\n",
    "np.save(\"../dataset/single/data_sub2.npy\", X2.T)\n",
    "np.save(\"../dataset/single/labels_sub2.npy\", y2)\n",
    "\n",
    "np.save(\"../dataset/single/data_sub3.npy\", X[2].T)\n",
    "np.save(\"../dataset/single/labels_sub3.npy\", y[2])\n",
    "\n",
    "np.save(\"../dataset/single/data_sub4.npy\", X[3].T)\n",
    "np.save(\"../dataset/single/labels_sub4.npy\", y[3])"
   ]
  },
  {
   "cell_type": "markdown",
   "metadata": {},
   "source": [
    "### Tarefas:\n",
    "\n",
    "- Padronizar os dados de todos os 4 participantes dos dados *single-target* e salvar de forma adequada para utilização nos próximos notebooks.\n",
    "- Realizar o mesmo estudo para os dados *multi-target*"
   ]
  }
 ],
 "metadata": {
  "kernelspec": {
   "display_name": "Python 3 (ipykernel)",
   "language": "python",
   "name": "python3"
  },
  "language_info": {
   "codemirror_mode": {
    "name": "ipython",
    "version": 3
   },
   "file_extension": ".py",
   "mimetype": "text/x-python",
   "name": "python",
   "nbconvert_exporter": "python",
   "pygments_lexer": "ipython3",
   "version": "3.10.12"
  }
 },
 "nbformat": 4,
 "nbformat_minor": 4
}
